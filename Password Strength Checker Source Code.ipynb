{
 "cells": [
  {
   "cell_type": "code",
   "execution_count": 25,
   "id": "e1cbb9b5-e092-4766-81bd-08eb7fdceb1a",
   "metadata": {},
   "outputs": [],
   "source": [
    "import math, sys, re, string"
   ]
  },
  {
   "cell_type": "code",
   "execution_count": 26,
   "id": "ec38be04-2288-4548-ba79-e9eb1a5bfcf9",
   "metadata": {},
   "outputs": [],
   "source": [
    "def password():\n",
    "    print (\"enter password\")"
   ]
  },
  {
   "cell_type": "code",
   "execution_count": null,
   "id": "125b763b-4e9b-4469-9110-8142e01cb79d",
   "metadata": {},
   "outputs": [],
   "source": [
    "password = input(\"Please enter your password: \")\n",
    "weak = 'weak'\n",
    "medium = 'medium'\n",
    "strong = 'strong'"
   ]
  },
  {
   "cell_type": "code",
   "execution_count": null,
   "id": "762b357d-7e8d-4307-b3e3-cbe2362d6234",
   "metadata": {},
   "outputs": [],
   "source": [
    "if len(password) >100:\n",
    "        print ('password is too long It must be between 6 and 100 characters')\n",
    "elif len(password) <6:\n",
    "        print ('password is too short It must be between 6 and 100 characters')\n",
    "elif len(password) >=6 and len(password) <= 100:\n",
    "        print ('password is ok')\n",
    "        if password.lower()== password or password.upper()==password or password.isalnum()==password:\n",
    "            print ('password strength is', weak)\n",
    "            elif password.lower()== password and password.upper()==password or password.isalnum()==password:\n",
    "            print ('password strength is', medium)\n",
    "\n",
    "            else:\n",
    "            password.lower()== password and password.ascii()==password and password.upper()==password and password.isalnum()==password\n",
    "            print ('password strength is', strong)"
   ]
  },
  {
   "cell_type": "code",
   "execution_count": null,
   "id": "ca55dcda-f127-4d67-a80f-4b33ca8351a7",
   "metadata": {},
   "outputs": [],
   "source": []
  }
 ],
 "metadata": {
  "kernelspec": {
   "display_name": "Python 3",
   "language": "python",
   "name": "python3"
  },
  "language_info": {
   "codemirror_mode": {
    "name": "ipython",
    "version": 3
   },
   "file_extension": ".py",
   "mimetype": "text/x-python",
   "name": "python",
   "nbconvert_exporter": "python",
   "pygments_lexer": "ipython3",
   "version": "3.7.8"
  }
 },
 "nbformat": 4,
 "nbformat_minor": 5
}
